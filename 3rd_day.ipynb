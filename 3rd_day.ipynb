{
  "nbformat": 4,
  "nbformat_minor": 0,
  "metadata": {
    "colab": {
      "provenance": [],
      "authorship_tag": "ABX9TyN5+1zAqOJ2ALx0+OYvBqVY",
      "include_colab_link": true
    },
    "kernelspec": {
      "name": "python3",
      "display_name": "Python 3"
    },
    "language_info": {
      "name": "python"
    }
  },
  "cells": [
    {
      "cell_type": "markdown",
      "metadata": {
        "id": "view-in-github",
        "colab_type": "text"
      },
      "source": [
        "<a href=\"https://colab.research.google.com/github/mani456256/INT213-K19PV-/blob/main/3rd_day.ipynb\" target=\"_parent\"><img src=\"https://colab.research.google.com/assets/colab-badge.svg\" alt=\"Open In Colab\"/></a>"
      ]
    },
    {
      "cell_type": "code",
      "execution_count": 5,
      "metadata": {
        "colab": {
          "base_uri": "https://localhost:8080/"
        },
        "id": "E1ojMgjCVMQT",
        "outputId": "509e3d94-e1af-4ad4-aa03-e4b5e6327be0"
      },
      "outputs": [
        {
          "output_type": "stream",
          "name": "stdout",
          "text": [
            "India\n",
            "11\n"
          ]
        }
      ],
      "source": [
        "##python decoters\n",
        "def outer(x):\n",
        "  print(\"India\")\n",
        "  def inner(y):\n",
        "    return x+y\n",
        "  return inner\n",
        "#outer(5)(6)\n",
        "add_five = outer(5)\n",
        "result = add_five(6)\n",
        "print(result)    "
      ]
    },
    {
      "cell_type": "code",
      "source": [
        "def factorial(x):\n",
        "  if x ==1:\n",
        "    return 1\n",
        "  else:\n",
        "    return (x*factorial(x-1))\n",
        "\n",
        "num = 3\n",
        "print(\"the factorial of \",num,\" is\", factorial(num))"
      ],
      "metadata": {
        "colab": {
          "base_uri": "https://localhost:8080/"
        },
        "id": "FAdkCdJuV3Tl",
        "outputId": "c9f2fe03-17ee-42bc-af5d-2f24b96f9336"
      },
      "execution_count": 4,
      "outputs": [
        {
          "output_type": "stream",
          "name": "stdout",
          "text": [
            "the factorial of  3  is 6\n"
          ]
        }
      ]
    },
    {
      "cell_type": "code",
      "source": [
        "import pandas as pd\n",
        "df = pd.read_csv(\"Supermarket_sales.csv\")\n",
        "df.corr()"
      ],
      "metadata": {
        "colab": {
          "base_uri": "https://localhost:8080/",
          "height": 318
        },
        "id": "hex8S8IuXKQo",
        "outputId": "47ec0c8e-960a-42d2-aefe-0ba69790fb56"
      },
      "execution_count": 6,
      "outputs": [
        {
          "output_type": "execute_result",
          "data": {
            "text/plain": [
              "                               No  Unitprice  Quantity       Tax     Total  \\\n",
              "No                       1.000000  -0.003676 -0.068602 -0.043401 -0.051277   \n",
              "Unitprice               -0.003676   1.000000  0.009504  0.633433  0.633962   \n",
              "Quantity                -0.068602   0.009504  1.000000  0.703564  0.705137   \n",
              "Tax                     -0.043401   0.633433  0.703564  1.000000  1.000000   \n",
              "Total                   -0.051277   0.633962  0.705137  1.000000  1.000000   \n",
              "cogs                    -0.051277   0.633962  0.705137  1.000000  1.000000   \n",
              "gross_margin_percentage       NaN        NaN       NaN       NaN       NaN   \n",
              "gross_iincome           -0.051277   0.633962  0.705137  1.000000  1.000000   \n",
              "Rating                  -0.026995  -0.008778 -0.015851 -0.035183 -0.036442   \n",
              "\n",
              "                             cogs  gross_margin_percentage  gross_iincome  \\\n",
              "No                      -0.051277                      NaN      -0.051277   \n",
              "Unitprice                0.633962                      NaN       0.633962   \n",
              "Quantity                 0.705137                      NaN       0.705137   \n",
              "Tax                      1.000000                      NaN       1.000000   \n",
              "Total                    1.000000                      NaN       1.000000   \n",
              "cogs                     1.000000                      NaN       1.000000   \n",
              "gross_margin_percentage       NaN                      NaN            NaN   \n",
              "gross_iincome            1.000000                      NaN       1.000000   \n",
              "Rating                  -0.036442                      NaN      -0.036442   \n",
              "\n",
              "                           Rating  \n",
              "No                      -0.026995  \n",
              "Unitprice               -0.008778  \n",
              "Quantity                -0.015851  \n",
              "Tax                     -0.035183  \n",
              "Total                   -0.036442  \n",
              "cogs                    -0.036442  \n",
              "gross_margin_percentage       NaN  \n",
              "gross_iincome           -0.036442  \n",
              "Rating                   1.000000  "
            ],
            "text/html": [
              "\n",
              "  <div id=\"df-965c2a1a-ef95-4a40-baa4-401354b2e5b8\">\n",
              "    <div class=\"colab-df-container\">\n",
              "      <div>\n",
              "<style scoped>\n",
              "    .dataframe tbody tr th:only-of-type {\n",
              "        vertical-align: middle;\n",
              "    }\n",
              "\n",
              "    .dataframe tbody tr th {\n",
              "        vertical-align: top;\n",
              "    }\n",
              "\n",
              "    .dataframe thead th {\n",
              "        text-align: right;\n",
              "    }\n",
              "</style>\n",
              "<table border=\"1\" class=\"dataframe\">\n",
              "  <thead>\n",
              "    <tr style=\"text-align: right;\">\n",
              "      <th></th>\n",
              "      <th>No</th>\n",
              "      <th>Unitprice</th>\n",
              "      <th>Quantity</th>\n",
              "      <th>Tax</th>\n",
              "      <th>Total</th>\n",
              "      <th>cogs</th>\n",
              "      <th>gross_margin_percentage</th>\n",
              "      <th>gross_iincome</th>\n",
              "      <th>Rating</th>\n",
              "    </tr>\n",
              "  </thead>\n",
              "  <tbody>\n",
              "    <tr>\n",
              "      <th>No</th>\n",
              "      <td>1.000000</td>\n",
              "      <td>-0.003676</td>\n",
              "      <td>-0.068602</td>\n",
              "      <td>-0.043401</td>\n",
              "      <td>-0.051277</td>\n",
              "      <td>-0.051277</td>\n",
              "      <td>NaN</td>\n",
              "      <td>-0.051277</td>\n",
              "      <td>-0.026995</td>\n",
              "    </tr>\n",
              "    <tr>\n",
              "      <th>Unitprice</th>\n",
              "      <td>-0.003676</td>\n",
              "      <td>1.000000</td>\n",
              "      <td>0.009504</td>\n",
              "      <td>0.633433</td>\n",
              "      <td>0.633962</td>\n",
              "      <td>0.633962</td>\n",
              "      <td>NaN</td>\n",
              "      <td>0.633962</td>\n",
              "      <td>-0.008778</td>\n",
              "    </tr>\n",
              "    <tr>\n",
              "      <th>Quantity</th>\n",
              "      <td>-0.068602</td>\n",
              "      <td>0.009504</td>\n",
              "      <td>1.000000</td>\n",
              "      <td>0.703564</td>\n",
              "      <td>0.705137</td>\n",
              "      <td>0.705137</td>\n",
              "      <td>NaN</td>\n",
              "      <td>0.705137</td>\n",
              "      <td>-0.015851</td>\n",
              "    </tr>\n",
              "    <tr>\n",
              "      <th>Tax</th>\n",
              "      <td>-0.043401</td>\n",
              "      <td>0.633433</td>\n",
              "      <td>0.703564</td>\n",
              "      <td>1.000000</td>\n",
              "      <td>1.000000</td>\n",
              "      <td>1.000000</td>\n",
              "      <td>NaN</td>\n",
              "      <td>1.000000</td>\n",
              "      <td>-0.035183</td>\n",
              "    </tr>\n",
              "    <tr>\n",
              "      <th>Total</th>\n",
              "      <td>-0.051277</td>\n",
              "      <td>0.633962</td>\n",
              "      <td>0.705137</td>\n",
              "      <td>1.000000</td>\n",
              "      <td>1.000000</td>\n",
              "      <td>1.000000</td>\n",
              "      <td>NaN</td>\n",
              "      <td>1.000000</td>\n",
              "      <td>-0.036442</td>\n",
              "    </tr>\n",
              "    <tr>\n",
              "      <th>cogs</th>\n",
              "      <td>-0.051277</td>\n",
              "      <td>0.633962</td>\n",
              "      <td>0.705137</td>\n",
              "      <td>1.000000</td>\n",
              "      <td>1.000000</td>\n",
              "      <td>1.000000</td>\n",
              "      <td>NaN</td>\n",
              "      <td>1.000000</td>\n",
              "      <td>-0.036442</td>\n",
              "    </tr>\n",
              "    <tr>\n",
              "      <th>gross_margin_percentage</th>\n",
              "      <td>NaN</td>\n",
              "      <td>NaN</td>\n",
              "      <td>NaN</td>\n",
              "      <td>NaN</td>\n",
              "      <td>NaN</td>\n",
              "      <td>NaN</td>\n",
              "      <td>NaN</td>\n",
              "      <td>NaN</td>\n",
              "      <td>NaN</td>\n",
              "    </tr>\n",
              "    <tr>\n",
              "      <th>gross_iincome</th>\n",
              "      <td>-0.051277</td>\n",
              "      <td>0.633962</td>\n",
              "      <td>0.705137</td>\n",
              "      <td>1.000000</td>\n",
              "      <td>1.000000</td>\n",
              "      <td>1.000000</td>\n",
              "      <td>NaN</td>\n",
              "      <td>1.000000</td>\n",
              "      <td>-0.036442</td>\n",
              "    </tr>\n",
              "    <tr>\n",
              "      <th>Rating</th>\n",
              "      <td>-0.026995</td>\n",
              "      <td>-0.008778</td>\n",
              "      <td>-0.015851</td>\n",
              "      <td>-0.035183</td>\n",
              "      <td>-0.036442</td>\n",
              "      <td>-0.036442</td>\n",
              "      <td>NaN</td>\n",
              "      <td>-0.036442</td>\n",
              "      <td>1.000000</td>\n",
              "    </tr>\n",
              "  </tbody>\n",
              "</table>\n",
              "</div>\n",
              "      <button class=\"colab-df-convert\" onclick=\"convertToInteractive('df-965c2a1a-ef95-4a40-baa4-401354b2e5b8')\"\n",
              "              title=\"Convert this dataframe to an interactive table.\"\n",
              "              style=\"display:none;\">\n",
              "        \n",
              "  <svg xmlns=\"http://www.w3.org/2000/svg\" height=\"24px\"viewBox=\"0 0 24 24\"\n",
              "       width=\"24px\">\n",
              "    <path d=\"M0 0h24v24H0V0z\" fill=\"none\"/>\n",
              "    <path d=\"M18.56 5.44l.94 2.06.94-2.06 2.06-.94-2.06-.94-.94-2.06-.94 2.06-2.06.94zm-11 1L8.5 8.5l.94-2.06 2.06-.94-2.06-.94L8.5 2.5l-.94 2.06-2.06.94zm10 10l.94 2.06.94-2.06 2.06-.94-2.06-.94-.94-2.06-.94 2.06-2.06.94z\"/><path d=\"M17.41 7.96l-1.37-1.37c-.4-.4-.92-.59-1.43-.59-.52 0-1.04.2-1.43.59L10.3 9.45l-7.72 7.72c-.78.78-.78 2.05 0 2.83L4 21.41c.39.39.9.59 1.41.59.51 0 1.02-.2 1.41-.59l7.78-7.78 2.81-2.81c.8-.78.8-2.07 0-2.86zM5.41 20L4 18.59l7.72-7.72 1.47 1.35L5.41 20z\"/>\n",
              "  </svg>\n",
              "      </button>\n",
              "      \n",
              "  <style>\n",
              "    .colab-df-container {\n",
              "      display:flex;\n",
              "      flex-wrap:wrap;\n",
              "      gap: 12px;\n",
              "    }\n",
              "\n",
              "    .colab-df-convert {\n",
              "      background-color: #E8F0FE;\n",
              "      border: none;\n",
              "      border-radius: 50%;\n",
              "      cursor: pointer;\n",
              "      display: none;\n",
              "      fill: #1967D2;\n",
              "      height: 32px;\n",
              "      padding: 0 0 0 0;\n",
              "      width: 32px;\n",
              "    }\n",
              "\n",
              "    .colab-df-convert:hover {\n",
              "      background-color: #E2EBFA;\n",
              "      box-shadow: 0px 1px 2px rgba(60, 64, 67, 0.3), 0px 1px 3px 1px rgba(60, 64, 67, 0.15);\n",
              "      fill: #174EA6;\n",
              "    }\n",
              "\n",
              "    [theme=dark] .colab-df-convert {\n",
              "      background-color: #3B4455;\n",
              "      fill: #D2E3FC;\n",
              "    }\n",
              "\n",
              "    [theme=dark] .colab-df-convert:hover {\n",
              "      background-color: #434B5C;\n",
              "      box-shadow: 0px 1px 3px 1px rgba(0, 0, 0, 0.15);\n",
              "      filter: drop-shadow(0px 1px 2px rgba(0, 0, 0, 0.3));\n",
              "      fill: #FFFFFF;\n",
              "    }\n",
              "  </style>\n",
              "\n",
              "      <script>\n",
              "        const buttonEl =\n",
              "          document.querySelector('#df-965c2a1a-ef95-4a40-baa4-401354b2e5b8 button.colab-df-convert');\n",
              "        buttonEl.style.display =\n",
              "          google.colab.kernel.accessAllowed ? 'block' : 'none';\n",
              "\n",
              "        async function convertToInteractive(key) {\n",
              "          const element = document.querySelector('#df-965c2a1a-ef95-4a40-baa4-401354b2e5b8');\n",
              "          const dataTable =\n",
              "            await google.colab.kernel.invokeFunction('convertToInteractive',\n",
              "                                                     [key], {});\n",
              "          if (!dataTable) return;\n",
              "\n",
              "          const docLinkHtml = 'Like what you see? Visit the ' +\n",
              "            '<a target=\"_blank\" href=https://colab.research.google.com/notebooks/data_table.ipynb>data table notebook</a>'\n",
              "            + ' to learn more about interactive tables.';\n",
              "          element.innerHTML = '';\n",
              "          dataTable['output_type'] = 'display_data';\n",
              "          await google.colab.output.renderOutput(dataTable, element);\n",
              "          const docLink = document.createElement('div');\n",
              "          docLink.innerHTML = docLinkHtml;\n",
              "          element.appendChild(docLink);\n",
              "        }\n",
              "      </script>\n",
              "    </div>\n",
              "  </div>\n",
              "  "
            ]
          },
          "metadata": {},
          "execution_count": 6
        }
      ]
    },
    {
      "cell_type": "code",
      "source": [
        "df.Unitprice.shift(2)"
      ],
      "metadata": {
        "colab": {
          "base_uri": "https://localhost:8080/"
        },
        "id": "zKsMOB9SZ_Vz",
        "outputId": "e7604c19-ada7-473e-bfb5-d6495bea3e6d"
      },
      "execution_count": 9,
      "outputs": [
        {
          "output_type": "execute_result",
          "data": {
            "text/plain": [
              "0        NaN\n",
              "1        NaN\n",
              "2      74.69\n",
              "3      15.28\n",
              "4      46.33\n",
              "       ...  \n",
              "995    17.49\n",
              "996    60.95\n",
              "997    40.35\n",
              "998    97.38\n",
              "999    31.84\n",
              "Name: Unitprice, Length: 1000, dtype: float64"
            ]
          },
          "metadata": {},
          "execution_count": 9
        }
      ]
    },
    {
      "cell_type": "code",
      "source": [
        "df.Unitprice.autocorr(lag = 7)"
      ],
      "metadata": {
        "colab": {
          "base_uri": "https://localhost:8080/"
        },
        "id": "dtcm3wqPcErp",
        "outputId": "4d06b8c6-7f83-4c2c-8554-1dc6a8238fd9"
      },
      "execution_count": 11,
      "outputs": [
        {
          "output_type": "execute_result",
          "data": {
            "text/plain": [
              "0.006794067800287398"
            ]
          },
          "metadata": {},
          "execution_count": 11
        }
      ]
    },
    {
      "cell_type": "code",
      "source": [
        "from scipy.stats import skew\n",
        "skew(df.Unitprice)"
      ],
      "metadata": {
        "colab": {
          "base_uri": "https://localhost:8080/"
        },
        "id": "oSYmeOGlcizh",
        "outputId": "6980c386-baaa-40bf-fb87-acc8793a72eb"
      },
      "execution_count": 12,
      "outputs": [
        {
          "output_type": "execute_result",
          "data": {
            "text/plain": [
              "0.0070668272550450705"
            ]
          },
          "metadata": {},
          "execution_count": 12
        }
      ]
    },
    {
      "cell_type": "code",
      "source": [
        "from scipy.stats import skew\n",
        "import matplotlib.pyplot as plt\n",
        "import numpy as np\n",
        "x1 = np.linspace(-5,5,1000)\n",
        "y1 = 1./(np.sqrt(2.*np.pi))*np.exp(-.5*(x1)**2)\n",
        "\n",
        "plt.plot(x1,y1,'*')"
      ],
      "metadata": {
        "colab": {
          "base_uri": "https://localhost:8080/",
          "height": 282
        },
        "id": "S0BHB58OeCoU",
        "outputId": "85140db7-429a-4835-beb4-34208b94268e"
      },
      "execution_count": 13,
      "outputs": [
        {
          "output_type": "execute_result",
          "data": {
            "text/plain": [
              "[<matplotlib.lines.Line2D at 0x7f752f9dbaf0>]"
            ]
          },
          "metadata": {},
          "execution_count": 13
        },
        {
          "output_type": "display_data",
          "data": {
            "text/plain": [
              "<Figure size 432x288 with 1 Axes>"
            ],
            "image/png": "[encoded data removed]"
          },
          "metadata": {
            "needs_background": "light"
          }
        }
      ]
    },
    {
      "cell_type": "code",
      "source": [
        "print('\\nSkew for normal distribution :',skew(y1))"
      ],
      "metadata": {
        "colab": {
          "base_uri": "https://localhost:8080/"
        },
        "id": "upo6xa1re5Qz",
        "outputId": "31cfa572-32ab-49cc-c308-e1140739610e"
      },
      "execution_count": 15,
      "outputs": [
        {
          "output_type": "stream",
          "name": "stdout",
          "text": [
            "\n",
            "Skew for normal distribution : 1.1108237139164436\n"
          ]
        }
      ]
    },
    {
      "cell_type": "code",
      "source": [
        "from scipy.stats.stats import kurtosis\n",
        "import matplotlib.pyplot as plt\n",
        "import numpy as np\n",
        "x1 = np.linspace(-5,5,1000)\n",
        "y1 = 1./(np.sqrt(2.*np.pi))*np.exp(-.5*(x1)**2)\n",
        "\n",
        "plt.plot(x1,y1,'*')"
      ],
      "metadata": {
        "colab": {
          "base_uri": "https://localhost:8080/",
          "height": 282
        },
        "id": "ghdy6POIfLbe",
        "outputId": "535f7e60-0a52-484a-fc97-8b02cf0d8061"
      },
      "execution_count": 16,
      "outputs": [
        {
          "output_type": "execute_result",
          "data": {
            "text/plain": [
              "[<matplotlib.lines.Line2D at 0x7f752fa22bb0>]"
            ]
          },
          "metadata": {},
          "execution_count": 16
        },
        {
          "output_type": "display_data",
          "data": {
            "text/plain": [
              "<Figure size 432x288 with 1 Axes>"
            ],
            "image/png": "[encoded data removed]"
          },
          "metadata": {
            "needs_background": "light"
          }
        }
      ]
    },
    {
      "cell_type": "code",
      "source": [
        "df = pd.read_csv(\"TCS.NS.csv\")\n",
        "df"
      ],
      "metadata": {
        "colab": {
          "base_uri": "https://localhost:8080/",
          "height": 457
        },
        "id": "Aj0Ukd6LlTBG",
        "outputId": "30f22f87-6738-4ba6-800f-dbfb4e233429"
      },
      "execution_count": 25,
      "outputs": [
        {
          "output_type": "execute_result",
          "data": {
            "text/plain": [
              "    Date         Open         High          Low        Close    Adj Close  \\\n",
              "0      1  3554.199951  3779.500000  3431.550049  3739.949951  3622.207520   \n",
              "1      2  3748.000000  3835.600098  3439.149902  3546.699951  3435.041504   \n",
              "2      3  3519.899902  3547.949951  3154.050049  3364.350098  3258.432617   \n",
              "3      4  3388.000000  3477.300049  3023.850098  3267.100098  3185.558594   \n",
              "4      5  3260.000000  3333.000000  2953.000000  3301.899902  3219.489990   \n",
              "5      6  3327.000000  3428.699951  3081.000000  3211.149902  3139.269775   \n",
              "6      7  3190.000000  3269.800049  2926.100098  3004.550049  2937.294434   \n",
              "7      8  2995.000000  3199.000000  2974.000000  3193.149902  3121.672607   \n",
              "8      9  3214.500000  3429.000000  3166.149902  3390.800049  3323.477539   \n",
              "9     10  3425.000000  3480.000000  3163.649902  3256.699951  3192.039795   \n",
              "10    11  3261.000000  3458.449951  3200.000000  3358.699951  3292.014648   \n",
              "11    12  3363.000000  3549.000000  3355.000000  3520.649902  3520.649902   \n",
              "12    13  3527.199951  3568.649902  3527.000000  3561.699951  3561.699951   \n",
              "\n",
              "      Volume  \n",
              "0   50559459  \n",
              "1   43295317  \n",
              "2   51124294  \n",
              "3   50689330  \n",
              "4   59847596  \n",
              "5   34342786  \n",
              "6   53936799  \n",
              "7   36559310  \n",
              "8   35504157  \n",
              "9   32369777  \n",
              "10  39921886  \n",
              "11  17345238  \n",
              "12    455488  "
            ],
            "text/html": [
              "\n",
              "  <div id=\"df-0a82863f-2340-47c7-a4b5-0a58ba3a7158\">\n",
              "    <div class=\"colab-df-container\">\n",
              "      <div>\n",
              "<style scoped>\n",
              "    .dataframe tbody tr th:only-of-type {\n",
              "        vertical-align: middle;\n",
              "    }\n",
              "\n",
              "    .dataframe tbody tr th {\n",
              "        vertical-align: top;\n",
              "    }\n",
              "\n",
              "    .dataframe thead th {\n",
              "        text-align: right;\n",
              "    }\n",
              "</style>\n",
              "<table border=\"1\" class=\"dataframe\">\n",
              "  <thead>\n",
              "    <tr style=\"text-align: right;\">\n",
              "      <th></th>\n",
              "      <th>Date</th>\n",
              "      <th>Open</th>\n",
              "      <th>High</th>\n",
              "      <th>Low</th>\n",
              "      <th>Close</th>\n",
              "      <th>Adj Close</th>\n",
              "      <th>Volume</th>\n",
              "    </tr>\n",
              "  </thead>\n",
              "  <tbody>\n",
              "    <tr>\n",
              "      <th>0</th>\n",
              "      <td>1</td>\n",
              "      <td>3554.199951</td>\n",
              "      <td>3779.500000</td>\n",
              "      <td>3431.550049</td>\n",
              "      <td>3739.949951</td>\n",
              "      <td>3622.207520</td>\n",
              "      <td>50559459</td>\n",
              "    </tr>\n",
              "    <tr>\n",
              "      <th>1</th>\n",
              "      <td>2</td>\n",
              "      <td>3748.000000</td>\n",
              "      <td>3835.600098</td>\n",
              "      <td>3439.149902</td>\n",
              "      <td>3546.699951</td>\n",
              "      <td>3435.041504</td>\n",
              "      <td>43295317</td>\n",
              "    </tr>\n",
              "    <tr>\n",
              "      <th>2</th>\n",
              "      <td>3</td>\n",
              "      <td>3519.899902</td>\n",
              "      <td>3547.949951</td>\n",
              "      <td>3154.050049</td>\n",
              "      <td>3364.350098</td>\n",
              "      <td>3258.432617</td>\n",
              "      <td>51124294</td>\n",
              "    </tr>\n",
              "    <tr>\n",
              "      <th>3</th>\n",
              "      <td>4</td>\n",
              "      <td>3388.000000</td>\n",
              "      <td>3477.300049</td>\n",
              "      <td>3023.850098</td>\n",
              "      <td>3267.100098</td>\n",
              "      <td>3185.558594</td>\n",
              "      <td>50689330</td>\n",
              "    </tr>\n",
              "    <tr>\n",
              "      <th>4</th>\n",
              "      <td>5</td>\n",
              "      <td>3260.000000</td>\n",
              "      <td>3333.000000</td>\n",
              "      <td>2953.000000</td>\n",
              "      <td>3301.899902</td>\n",
              "      <td>3219.489990</td>\n",
              "      <td>59847596</td>\n",
              "    </tr>\n",
              "    <tr>\n",
              "      <th>5</th>\n",
              "      <td>6</td>\n",
              "      <td>3327.000000</td>\n",
              "      <td>3428.699951</td>\n",
              "      <td>3081.000000</td>\n",
              "      <td>3211.149902</td>\n",
              "      <td>3139.269775</td>\n",
              "      <td>34342786</td>\n",
              "    </tr>\n",
              "    <tr>\n",
              "      <th>6</th>\n",
              "      <td>7</td>\n",
              "      <td>3190.000000</td>\n",
              "      <td>3269.800049</td>\n",
              "      <td>2926.100098</td>\n",
              "      <td>3004.550049</td>\n",
              "      <td>2937.294434</td>\n",
              "      <td>53936799</td>\n",
              "    </tr>\n",
              "    <tr>\n",
              "      <th>7</th>\n",
              "      <td>8</td>\n",
              "      <td>2995.000000</td>\n",
              "      <td>3199.000000</td>\n",
              "      <td>2974.000000</td>\n",
              "      <td>3193.149902</td>\n",
              "      <td>3121.672607</td>\n",
              "      <td>36559310</td>\n",
              "    </tr>\n",
              "    <tr>\n",
              "      <th>8</th>\n",
              "      <td>9</td>\n",
              "      <td>3214.500000</td>\n",
              "      <td>3429.000000</td>\n",
              "      <td>3166.149902</td>\n",
              "      <td>3390.800049</td>\n",
              "      <td>3323.477539</td>\n",
              "      <td>35504157</td>\n",
              "    </tr>\n",
              "    <tr>\n",
              "      <th>9</th>\n",
              "      <td>10</td>\n",
              "      <td>3425.000000</td>\n",
              "      <td>3480.000000</td>\n",
              "      <td>3163.649902</td>\n",
              "      <td>3256.699951</td>\n",
              "      <td>3192.039795</td>\n",
              "      <td>32369777</td>\n",
              "    </tr>\n",
              "    <tr>\n",
              "      <th>10</th>\n",
              "      <td>11</td>\n",
              "      <td>3261.000000</td>\n",
              "      <td>3458.449951</td>\n",
              "      <td>3200.000000</td>\n",
              "      <td>3358.699951</td>\n",
              "      <td>3292.014648</td>\n",
              "      <td>39921886</td>\n",
              "    </tr>\n",
              "    <tr>\n",
              "      <th>11</th>\n",
              "      <td>12</td>\n",
              "      <td>3363.000000</td>\n",
              "      <td>3549.000000</td>\n",
              "      <td>3355.000000</td>\n",
              "      <td>3520.649902</td>\n",
              "      <td>3520.649902</td>\n",
              "      <td>17345238</td>\n",
              "    </tr>\n",
              "    <tr>\n",
              "      <th>12</th>\n",
              "      <td>13</td>\n",
              "      <td>3527.199951</td>\n",
              "      <td>3568.649902</td>\n",
              "      <td>3527.000000</td>\n",
              "      <td>3561.699951</td>\n",
              "      <td>3561.699951</td>\n",
              "      <td>455488</td>\n",
              "    </tr>\n",
              "  </tbody>\n",
              "</table>\n",
              "</div>\n",
              "      <button class=\"colab-df-convert\" onclick=\"convertToInteractive('df-0a82863f-2340-47c7-a4b5-0a58ba3a7158')\"\n",
              "              title=\"Convert this dataframe to an interactive table.\"\n",
              "              style=\"display:none;\">\n",
              "        \n",
              "  <svg xmlns=\"http://www.w3.org/2000/svg\" height=\"24px\"viewBox=\"0 0 24 24\"\n",
              "       width=\"24px\">\n",
              "    <path d=\"M0 0h24v24H0V0z\" fill=\"none\"/>\n",
              "    <path d=\"M18.56 5.44l.94 2.06.94-2.06 2.06-.94-2.06-.94-.94-2.06-.94 2.06-2.06.94zm-11 1L8.5 8.5l.94-2.06 2.06-.94-2.06-.94L8.5 2.5l-.94 2.06-2.06.94zm10 10l.94 2.06.94-2.06 2.06-.94-2.06-.94-.94-2.06-.94 2.06-2.06.94z\"/><path d=\"M17.41 7.96l-1.37-1.37c-.4-.4-.92-.59-1.43-.59-.52 0-1.04.2-1.43.59L10.3 9.45l-7.72 7.72c-.78.78-.78 2.05 0 2.83L4 21.41c.39.39.9.59 1.41.59.51 0 1.02-.2 1.41-.59l7.78-7.78 2.81-2.81c.8-.78.8-2.07 0-2.86zM5.41 20L4 18.59l7.72-7.72 1.47 1.35L5.41 20z\"/>\n",
              "  </svg>\n",
              "      </button>\n",
              "      \n",
              "  <style>\n",
              "    .colab-df-container {\n",
              "      display:flex;\n",
              "      flex-wrap:wrap;\n",
              "      gap: 12px;\n",
              "    }\n",
              "\n",
              "    .colab-df-convert {\n",
              "      background-color: #E8F0FE;\n",
              "      border: none;\n",
              "      border-radius: 50%;\n",
              "      cursor: pointer;\n",
              "      display: none;\n",
              "      fill: #1967D2;\n",
              "      height: 32px;\n",
              "      padding: 0 0 0 0;\n",
              "      width: 32px;\n",
              "    }\n",
              "\n",
              "    .colab-df-convert:hover {\n",
              "      background-color: #E2EBFA;\n",
              "      box-shadow: 0px 1px 2px rgba(60, 64, 67, 0.3), 0px 1px 3px 1px rgba(60, 64, 67, 0.15);\n",
              "      fill: #174EA6;\n",
              "    }\n",
              "\n",
              "    [theme=dark] .colab-df-convert {\n",
              "      background-color: #3B4455;\n",
              "      fill: #D2E3FC;\n",
              "    }\n",
              "\n",
              "    [theme=dark] .colab-df-convert:hover {\n",
              "      background-color: #434B5C;\n",
              "      box-shadow: 0px 1px 3px 1px rgba(0, 0, 0, 0.15);\n",
              "      filter: drop-shadow(0px 1px 2px rgba(0, 0, 0, 0.3));\n",
              "      fill: #FFFFFF;\n",
              "    }\n",
              "  </style>\n",
              "\n",
              "      <script>\n",
              "        const buttonEl =\n",
              "          document.querySelector('#df-0a82863f-2340-47c7-a4b5-0a58ba3a7158 button.colab-df-convert');\n",
              "        buttonEl.style.display =\n",
              "          google.colab.kernel.accessAllowed ? 'block' : 'none';\n",
              "\n",
              "        async function convertToInteractive(key) {\n",
              "          const element = document.querySelector('#df-0a82863f-2340-47c7-a4b5-0a58ba3a7158');\n",
              "          const dataTable =\n",
              "            await google.colab.kernel.invokeFunction('convertToInteractive',\n",
              "                                                     [key], {});\n",
              "          if (!dataTable) return;\n",
              "\n",
              "          const docLinkHtml = 'Like what you see? Visit the ' +\n",
              "            '<a target=\"_blank\" href=https://colab.research.google.com/notebooks/data_table.ipynb>data table notebook</a>'\n",
              "            + ' to learn more about interactive tables.';\n",
              "          element.innerHTML = '';\n",
              "          dataTable['output_type'] = 'display_data';\n",
              "          await google.colab.output.renderOutput(dataTable, element);\n",
              "          const docLink = document.createElement('div');\n",
              "          docLink.innerHTML = docLinkHtml;\n",
              "          element.appendChild(docLink);\n",
              "        }\n",
              "      </script>\n",
              "    </div>\n",
              "  </div>\n",
              "  "
            ]
          },
          "metadata": {},
          "execution_count": 25
        }
      ]
    },
    {
      "cell_type": "code",
      "source": [
        "x = df.iloc[:,0:1].values"
      ],
      "metadata": {
        "id": "JSQP6I4xnoX-"
      },
      "execution_count": 26,
      "outputs": []
    },
    {
      "cell_type": "code",
      "source": [
        "x"
      ],
      "metadata": {
        "colab": {
          "base_uri": "https://localhost:8080/"
        },
        "id": "9V4zMjHNnzd4",
        "outputId": "e7902e1a-7a15-4db2-ace3-c17d1678c463"
      },
      "execution_count": 27,
      "outputs": [
        {
          "output_type": "execute_result",
          "data": {
            "text/plain": [
              "array([[ 1],\n",
              "       [ 2],\n",
              "       [ 3],\n",
              "       [ 4],\n",
              "       [ 5],\n",
              "       [ 6],\n",
              "       [ 7],\n",
              "       [ 8],\n",
              "       [ 9],\n",
              "       [10],\n",
              "       [11],\n",
              "       [12],\n",
              "       [13]])"
            ]
          },
          "metadata": {},
          "execution_count": 27
        }
      ]
    },
    {
      "cell_type": "code",
      "source": [
        "y = df.iloc[: ,4].values"
      ],
      "metadata": {
        "id": "yme1dUJdn6dG"
      },
      "execution_count": 28,
      "outputs": []
    },
    {
      "cell_type": "code",
      "source": [
        "y"
      ],
      "metadata": {
        "colab": {
          "base_uri": "https://localhost:8080/"
        },
        "id": "VE9GsD9ToUDe",
        "outputId": "0bd675b2-76ec-4505-eac7-77b4115624c6"
      },
      "execution_count": 29,
      "outputs": [
        {
          "output_type": "execute_result",
          "data": {
            "text/plain": [
              "array([3739.949951, 3546.699951, 3364.350098, 3267.100098, 3301.899902,\n",
              "       3211.149902, 3004.550049, 3193.149902, 3390.800049, 3256.699951,\n",
              "       3358.699951, 3520.649902, 3561.699951])"
            ]
          },
          "metadata": {},
          "execution_count": 29
        }
      ]
    },
    {
      "cell_type": "code",
      "source": [
        "from sklearn.linear_model import LinearRegression\n",
        "regressor =  LinearRegression()\n",
        "regressor.fit(x,y)"
      ],
      "metadata": {
        "colab": {
          "base_uri": "https://localhost:8080/"
        },
        "id": "w2mIKg2xoV-b",
        "outputId": "cc64b7d0-91e5-428f-8944-dc015ccad687"
      },
      "execution_count": 30,
      "outputs": [
        {
          "output_type": "execute_result",
          "data": {
            "text/plain": [
              "LinearRegression()"
            ]
          },
          "metadata": {},
          "execution_count": 30
        }
      ]
    },
    {
      "cell_type": "code",
      "source": [
        "y_pred = regressor.predict(x)"
      ],
      "metadata": {
        "id": "Cc3sZhoVom9k"
      },
      "execution_count": 32,
      "outputs": []
    },
    {
      "cell_type": "code",
      "source": [
        "y_pred"
      ],
      "metadata": {
        "colab": {
          "base_uri": "https://localhost:8080/"
        },
        "id": "vWcUOEK5ph_r",
        "outputId": "36a8ef4f-266a-4c85-8fe7-ac0a44d24321"
      },
      "execution_count": 33,
      "outputs": [
        {
          "output_type": "execute_result",
          "data": {
            "text/plain": [
              "array([3398.93462131, 3392.92500054, 3386.91537977, 3380.905759  ,\n",
              "       3374.89613823, 3368.88651746, 3362.87689669, 3356.86727592,\n",
              "       3350.85765515, 3344.84803438, 3338.83841362, 3332.82879285,\n",
              "       3326.81917208])"
            ]
          },
          "metadata": {},
          "execution_count": 33
        }
      ]
    },
    {
      "cell_type": "code",
      "source": [
        "plt.scatter(x,y, color = \"red\")\n",
        "plt.plot(x,y_pred)"
      ],
      "metadata": {
        "colab": {
          "base_uri": "https://localhost:8080/",
          "height": 282
        },
        "id": "dmGgbHSwpnqq",
        "outputId": "fab7d8c7-5d0f-4b87-ceab-37e2207e98b6"
      },
      "execution_count": 37,
      "outputs": [
        {
          "output_type": "execute_result",
          "data": {
            "text/plain": [
              "[<matplotlib.lines.Line2D at 0x7f752c9905e0>]"
            ]
          },
          "metadata": {},
          "execution_count": 37
        },
        {
          "output_type": "display_data",
          "data": {
            "text/plain": [
              "<Figure size 432x288 with 1 Axes>"
            ],
            "image/png": "[encoded data removed]"
          },
          "metadata": {
            "needs_background": "light"
          }
        }
      ]
    },
    {
      "cell_type": "code",
      "source": [
        "import seaborn as sns\n",
        "sns.lineplot(x=\"Date\",y= \"Close\",data =df)\n",
        "sns.set_style(\"dark\")"
      ],
      "metadata": {
        "colab": {
          "base_uri": "https://localhost:8080/",
          "height": 279
        },
        "id": "M5dWR90lpvvo",
        "outputId": "2f965665-865d-42a6-bd54-11b15891feb3"
      },
      "execution_count": 39,
      "outputs": [
        {
          "output_type": "display_data",
          "data": {
            "text/plain": [
              "<Figure size 432x288 with 1 Axes>"
            ],
            "image/png": "[encoded data removed]"
          },
          "metadata": {
            "needs_background": "light"
          }
        }
      ]
    },
    {
      "cell_type": "code",
      "source": [],
      "metadata": {
        "id": "iIT76G0-rIKG"
      },
      "execution_count": null,
      "outputs": []
    }
  ]
}